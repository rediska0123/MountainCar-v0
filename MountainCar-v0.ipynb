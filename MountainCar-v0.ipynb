{
 "cells": [
  {
   "cell_type": "code",
   "execution_count": 30,
   "metadata": {},
   "outputs": [],
   "source": [
    "import numpy as np\n",
    "import pandas as pd\n",
    "import matplotlib.pyplot as plt\n",
    "import gym\n",
    "import sys\n",
    "import math"
   ]
  },
  {
   "cell_type": "code",
   "execution_count": 52,
   "metadata": {},
   "outputs": [],
   "source": [
    "env = gym.make('MountainCar-v0')"
   ]
  },
  {
   "cell_type": "code",
   "execution_count": 53,
   "metadata": {},
   "outputs": [
    {
     "name": "stdout",
     "output_type": "stream",
     "text": [
      "Low:\t [-1.2  -0.07]\n",
      "High:\t [0.6  0.07]\n",
      "(0, 0)\n",
      "(19, 19)\n"
     ]
    }
   ],
   "source": [
    "# Discretizer is a class to discretize the observation space.\n",
    "class Discretizer:\n",
    "    # discretizes [low, high] space to a grid with grid_shape shape\n",
    "    def __init__(self, low, high, grid_shape):\n",
    "        self.grids = []\n",
    "        for i in range(low.shape[0]):\n",
    "            gap = (high[i] - low[i]) / grid_shape[i]\n",
    "            self.grids.append([low[i] + j * gap for j in range(1, grid_shape[i])])\n",
    "    \n",
    "    def grid_shape(self):\n",
    "        return tuple([len(grid) + 1 for grid in self.grids])\n",
    "\n",
    "    def discretize_state(self, state):\n",
    "        return tuple([np.digitize(state[i], self.grids[i]) for i in range(len(state))])\n",
    "\n",
    "\n",
    "print(\"Low:\\t\", env.observation_space.low)\n",
    "print(\"High:\\t\", env.observation_space.high)\n",
    "discretizer = Discretizer(env.observation_space.low, env.observation_space.high, (20, 20))\n",
    "print(discretizer.discretize_state([-1.2, -0.07]))\n",
    "print(discretizer.discretize_state([1.2, 0.07]))"
   ]
  },
  {
   "cell_type": "code",
   "execution_count": 54,
   "metadata": {},
   "outputs": [],
   "source": [
    "# Agent using Q-learning algorithm.\n",
    "class Agent:\n",
    "    def __init__(self, env, states_shape, alpha=0.02, gamma=0.99, epsilon=0.1):\n",
    "        self.actions_n = env.action_space.n\n",
    "        self.states_shape = states_shape\n",
    "        self.Q = np.zeros(states_shape + (self.actions_n,))\n",
    "        \n",
    "        # alpha --- learning rate\n",
    "        self.alpha = alpha\n",
    "        # gamma --- discount factor\n",
    "        self.gamma = gamma\n",
    "        # epsilon for epsilon-greedy policy\n",
    "        self.epsilon = epsilon\n",
    "\n",
    "    def max_policy(self, state):\n",
    "        return np.argmax(self.Q[state])\n",
    "    \n",
    "    def eps_greedy_policy(self, state):\n",
    "        if np.random.random() < self.epsilon:\n",
    "            return np.random.choice(self.actions_n)\n",
    "        else:\n",
    "            return self.max_policy(state)\n",
    "        \n",
    "    def learn(self, state, action, new_state, reward):\n",
    "        self.Q[state + (action,)] += self.alpha * \\\n",
    "            (reward + self.gamma * max(self.Q[new_state]) - self.Q[state + (action,)])\n",
    "\n",
    "\n",
    "agent = Agent(env, discretizer.grid_shape())"
   ]
  },
  {
   "cell_type": "code",
   "execution_count": 55,
   "metadata": {},
   "outputs": [],
   "source": [
    "# Reward agent with the reward from the env and when it has high speed.\n",
    "def process_reward(state, action, new_state, reward):\n",
    "    return reward + 100 * (abs(new_state[1]))**2"
   ]
  },
  {
   "cell_type": "code",
   "execution_count": 56,
   "metadata": {},
   "outputs": [
    {
     "name": "stdout",
     "output_type": "stream",
     "text": [
      "Episode 40000 out of 40000, approximate score: -132.77"
     ]
    }
   ],
   "source": [
    "# Train agent episode_n times.\n",
    "def train(env, agent, episode_n=40000):\n",
    "    scores = []\n",
    "    # batches are only used for outputing the average score.\n",
    "    batch_sz = 100\n",
    "    batch_avg_scores = []\n",
    "    for episode in range(1, episode_n+1):\n",
    "        state = discretizer.discretize_state(env.reset())\n",
    "        done = False\n",
    "        total_reward = 0\n",
    "        \n",
    "        while not done:\n",
    "            action = agent.eps_greedy_policy(state)\n",
    "            new_state, reward, done, info = env.step(action)\n",
    "            total_reward += reward\n",
    "            reward = process_reward(state, action, new_state, reward)\n",
    "            new_state = discretizer.discretize_state(new_state)\n",
    "            agent.learn(state, action, new_state, reward)\n",
    "            state = new_state\n",
    "        \n",
    "        scores.append(total_reward)\n",
    "        \n",
    "        if (episode % batch_sz == 0):\n",
    "            batch_avg_scores.append(np.mean(scores[-batch_sz:]))\n",
    "            print(\"\\rEpisode {} out of {}, approximate score: {}\".format(\n",
    "                episode,\n",
    "                episode_n,\n",
    "                np.max(batch_avg_scores)),\n",
    "                end=\"\"\n",
    "            )\n",
    "            sys.stdout.flush()\n",
    "\n",
    "    return scores\n",
    "\n",
    "\n",
    "scores = train(env, agent)"
   ]
  },
  {
   "cell_type": "code",
   "execution_count": 36,
   "metadata": {},
   "outputs": [
    {
     "data": {
      "image/png": "[encoded data removed]",
      "text/plain": [
       "<Figure size 432x288 with 1 Axes>"
      ]
     },
     "metadata": {
      "needs_background": "light"
     },
     "output_type": "display_data"
    }
   ],
   "source": [
    "# Plot episode_number - score dependency.\n",
    "plt.plot(scores);\n",
    "plt.title(\"Scores\");\n",
    "plt.plot(pd.Series(scores).rolling(100).mean());"
   ]
  },
  {
   "cell_type": "code",
   "execution_count": 51,
   "metadata": {},
   "outputs": [
    {
     "name": "stdout",
     "output_type": "stream",
     "text": [
      "Score: -143.0\n"
     ]
    }
   ],
   "source": [
    "# Show agent in action.\n",
    "state = env.reset()\n",
    "score = 0\n",
    "done = False\n",
    "while not done:\n",
    "    action = agent.max_policy(discretizer.discretize_state(state))\n",
    "    env.render()\n",
    "    state, reward, done, info = env.step(action)\n",
    "    score += reward\n",
    "print('Score:', score)\n",
    "env.close()"
   ]
  },
  {
   "cell_type": "code",
   "execution_count": null,
   "metadata": {},
   "outputs": [],
   "source": []
  }
 ],
 "metadata": {
  "kernelspec": {
   "display_name": "Python 3",
   "language": "python",
   "name": "python3"
  },
  "language_info": {
   "codemirror_mode": {
    "name": "ipython",
    "version": 3
   },
   "file_extension": ".py",
   "mimetype": "text/x-python",
   "name": "python",
   "nbconvert_exporter": "python",
   "pygments_lexer": "ipython3",
   "version": "3.5.2"
  }
 },
 "nbformat": 4,
 "nbformat_minor": 2
}
