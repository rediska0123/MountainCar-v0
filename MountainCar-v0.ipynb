{
 "cells": [
  {
   "cell_type": "code",
   "execution_count": 1,
   "metadata": {},
   "outputs": [],
   "source": [
    "import matplotlib.pyplot as plt\n",
    "import numpy as np\n",
    "import random, copy\n",
    "import torch\n",
    "from collections import deque"
   ]
  },
  {
   "cell_type": "code",
   "execution_count": 2,
   "metadata": {},
   "outputs": [],
   "source": [
    "import gym\n",
    "env = gym.make(\"MountainCar-v0\")"
   ]
  },
  {
   "cell_type": "code",
   "execution_count": 3,
   "metadata": {},
   "outputs": [],
   "source": [
    "# a model to approximate Q function\n",
    "class QApproximation:\n",
    "    def __init__(self, env, hidden_sz=32, max_eps=1.0, min_eps=0.1, eps_decrease_rate=0.99):\n",
    "        self.actions_n = env.action_space.n\n",
    "        self.nn = torch.nn.Sequential(\n",
    "            torch.nn.Linear(env.observation_space.shape[0], hidden_sz),\n",
    "            torch.nn.ReLU(),\n",
    "            torch.nn.Linear(hidden_sz, hidden_sz),\n",
    "            torch.nn.ReLU(),\n",
    "            torch.nn.Linear(hidden_sz, self.actions_n)\n",
    "        )\n",
    "        self.nn.train()\n",
    "        \n",
    "        # constants for epsilon in eps-greedy policy\n",
    "        self.max_eps = max_eps\n",
    "        self.min_eps = min_eps\n",
    "        self.eps_decrease_rate = eps_decrease_rate\n",
    "        self.eps = self.max_eps\n",
    "    \n",
    "    def predict(self, state):\n",
    "        return self.nn(torch.tensor(state).float().unsqueeze(0)).detach()\n",
    "    \n",
    "    def max_policy(self, state):\n",
    "        return np.argmax(self.predict(state)).item()\n",
    "    \n",
    "    def eps_greedy_policy(self, state):\n",
    "        self.eps = max(self.min_eps, self.eps * self.eps_decrease_rate)\n",
    "        if random.random() < self.eps:\n",
    "            return np.random.choice(self.actions_n)\n",
    "        return self.max_policy(state)\n",
    "\n",
    "\n",
    "q = QApproximation(env)"
   ]
  },
  {
   "cell_type": "code",
   "execution_count": 4,
   "metadata": {},
   "outputs": [],
   "source": [
    "class Memory:\n",
    "    def __init__(self, max_sz):\n",
    "        self.max_sz = max_sz\n",
    "        self.mem = deque([])\n",
    "\n",
    "    def __len__(self):\n",
    "        return len(self.mem)\n",
    "\n",
    "    def append(self, x):\n",
    "        self.mem.append(x)\n",
    "        if len(self.mem) > self.max_sz:\n",
    "            self.mem.popleft()\n",
    "\n",
    "    def random_sample(self, sz):\n",
    "        return random.sample(self.mem, sz)"
   ]
  },
  {
   "cell_type": "code",
   "execution_count": 5,
   "metadata": {},
   "outputs": [],
   "source": [
    "optimizer = torch.optim.Adam(q.nn.parameters(), lr=0.00005)"
   ]
  },
  {
   "cell_type": "code",
   "execution_count": 6,
   "metadata": {},
   "outputs": [],
   "source": [
    "def fit(states, actions, next_states, rewards, gamma=0.99):\n",
    "    # fit the model to approximate Q function using the given batch\n",
    "    q_prediction = q.nn(torch.FloatTensor(states)).gather(1, torch.LongTensor(actions).unsqueeze(1))\n",
    "    q_target = torch.FloatTensor(rewards) + gamma * q.nn(torch.FloatTensor(next_states)).max(1)[0].detach()\n",
    "    loss = torch.nn.functional.smooth_l1_loss(q_prediction, q_target.unsqueeze(1))\n",
    "    optimizer.zero_grad()\n",
    "    loss.backward()\n",
    "    optimizer.step()\n",
    "        \n",
    "    for p in q.nn.parameters():\n",
    "        p.grad.data.clamp_(-1, 1)"
   ]
  },
  {
   "cell_type": "code",
   "execution_count": 7,
   "metadata": {},
   "outputs": [],
   "source": [
    "def process_reward(state, action, new_state, reward):\n",
    "    return reward + abs(new_state[1])"
   ]
  },
  {
   "cell_type": "code",
   "execution_count": 8,
   "metadata": {},
   "outputs": [],
   "source": [
    "def train(episodes_n=2000, mem_sz=4000, fit_batch_sz=100):\n",
    "    memory = Memory(mem_sz)\n",
    "    total_rewards = []\n",
    "    max_q = copy.deepcopy(q) # the best q function\n",
    "    max_avg = -np.inf\n",
    "    \n",
    "    for episode in range(1, episodes_n+1):\n",
    "        state = env.reset()\n",
    "        done = False\n",
    "        total_reward = 0\n",
    "        while not done:\n",
    "            action = q.eps_greedy_policy(state)\n",
    "            new_state, reward, done, _ = env.step(action)\n",
    "            total_reward += reward\n",
    "            reward = process_reward(state, action, new_state, reward)\n",
    "            memory.append((state, action, new_state, reward))\n",
    "            state = new_state\n",
    "            \n",
    "            if len(memory) >= fit_batch_sz:\n",
    "                batch = memory.random_sample(fit_batch_sz)\n",
    "                states, actions, next_states, rewards = tuple([[b[i] for b in batch] for i in range(4)])\n",
    "                fit(states, actions, next_states, rewards)\n",
    "\n",
    "        total_rewards.append(total_reward)\n",
    "            \n",
    "        if episode % 10 == 0:\n",
    "            avg = np.mean(total_rewards[-10:])\n",
    "            print(\"\\rEpisode {} out of {}, average total reward {}\".format(\n",
    "                episode, episodes_n, avg), end=\"\")\n",
    "            if avg > max_avg:\n",
    "                max_avg = avg\n",
    "                max_q = copy.deepcopy(q)\n",
    "        \n",
    "        if 2 * episode >= episodes_n:\n",
    "            optimizer = torch.optim.Adam(q.nn.parameters(), lr=0.00001)\n",
    "\n",
    "    return max_q, total_rewards"
   ]
  },
  {
   "cell_type": "code",
   "execution_count": 9,
   "metadata": {},
   "outputs": [
    {
     "name": "stdout",
     "output_type": "stream",
     "text": [
      "Episode 2000 out of 2000, average total reward -196.8"
     ]
    },
    {
     "data": {
      "text/plain": [
       "[<matplotlib.lines.Line2D at 0x7f9c241e1810>]"
      ]
     },
     "execution_count": 9,
     "metadata": {},
     "output_type": "execute_result"
    },
    {
     "data": {
      "image/png": "[encoded data removed]",
      "text/plain": [
       "<Figure size 432x288 with 1 Axes>"
      ]
     },
     "metadata": {
      "needs_background": "light"
     },
     "output_type": "display_data"
    }
   ],
   "source": [
    "max_q, total_rewards = train()\n",
    "plt.plot(total_rewards)"
   ]
  },
  {
   "cell_type": "code",
   "execution_count": 14,
   "metadata": {},
   "outputs": [
    {
     "name": "stdout",
     "output_type": "stream",
     "text": [
      "Final total reward: -116.0\n"
     ]
    }
   ],
   "source": [
    "state = env.reset()\n",
    "total_reward = 0\n",
    "done = False\n",
    "while not done:\n",
    "    action = max_q.max_policy(state)\n",
    "    env.render()\n",
    "    state, reward, done, _ = env.step(action)\n",
    "    total_reward += reward\n",
    "print('Final total reward:', total_reward)\n",
    "env.close()\n",
    "\n",
    "torch.save(max_q.nn.state_dict(), 'MountainCarModel.h5')"
   ]
  },
  {
   "cell_type": "code",
   "execution_count": null,
   "metadata": {},
   "outputs": [],
   "source": []
  }
 ],
 "metadata": {
  "kernelspec": {
   "display_name": "Python 3",
   "language": "python",
   "name": "python3"
  },
  "language_info": {
   "codemirror_mode": {
    "name": "ipython",
    "version": 3
   },
   "file_extension": ".py",
   "mimetype": "text/x-python",
   "name": "python",
   "nbconvert_exporter": "python",
   "pygments_lexer": "ipython3",
   "version": "3.7.4"
  }
 },
 "nbformat": 4,
 "nbformat_minor": 2
}
